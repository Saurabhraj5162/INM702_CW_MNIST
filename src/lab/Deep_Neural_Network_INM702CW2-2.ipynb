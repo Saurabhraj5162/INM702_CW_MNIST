{
  "cells": [
    {
      "cell_type": "code",
      "execution_count": 1,
      "metadata": {
        "id": "qJ6CMM4mU1IU"
      },
      "outputs": [],
      "source": [
        "import numpy as np\n",
        "import matplotlib.pyplot as plt\n",
        "from scipy.stats import truncnorm"
      ]
    },
    {
      "cell_type": "code",
      "execution_count": 52,
      "metadata": {
        "id": "QO4QzcBxv8Dn"
      },
      "outputs": [],
      "source": [
        "class My_Neural_Network():\n",
        "  def __init__(self, layers_list,\n",
        "               activation_functions,weight_initializer, \n",
        "               learning_rate,lambd,\n",
        "               drop_rate, sgd):\n",
        "\n",
        "    self.layers_list = layers_list\n",
        "    self.activation_functions = activation_functions\n",
        "    self.weight_initializer = weight_initializer\n",
        "    self.learning_rate = learning_rate\n",
        "    self.lambd = lambd\n",
        "    self.drop_rate = drop_rate\n",
        "    self.sgd = sgd\n",
        "\n",
        "\n",
        "\n",
        "  def sigmoid(self,Z):\n",
        "    \"\"\" Arg: Linear activation Z\n",
        "        return: Sigmoid of Z\n",
        "    \"\"\"\n",
        "    return 1/(1+np.exp(-Z))\n",
        "\n",
        "  def sigmoid_derivative(self,dA,Z):\n",
        "    \"\"\" Arg: Derivative of Loss w.r.t activation (dL/dAl), Linear activation Z\n",
        "        return: dL/dZl = (dL/dAl)*(dAl/dZl)\n",
        "                (dAl/dZl) = Derivative of activation w.r.t linear activation(Z)\n",
        "    \"\"\"\n",
        "    dZl = self.sigmoid(Z)*(1-self.sigmoid(Z))\n",
        "\n",
        "    return dA*dZl\n",
        "\n",
        "  def relu(self,Z):\n",
        "    \"\"\" Arg: Linear activation Z\n",
        "        return: Relu of Z\n",
        "    \"\"\"\n",
        "    return np.maximum(0,Z)\n",
        "\n",
        "  def relu_derivative(self,dA,Z):\n",
        "    \"\"\" Arg: Derivative of Loss w.r.t activation (dL/dAl), Linear activation Z\n",
        "        return: dL/dZl = (dL/dAl)*(dAl/dZl)\n",
        "                (dAl/dZl) = Derivative of activation w.r.t linear activation(Z)\n",
        "    \"\"\"\n",
        "    \n",
        "    dZ = Z.copy()\n",
        "\n",
        "    dZ = np.array(dZ>0, dtype=np.float32)\n",
        "\n",
        "\n",
        "    return dA*dZ\n",
        "\n",
        "\n",
        "  def softmax(self,Z):\n",
        "    #print(Z.shape)\n",
        "    e = np.exp(Z)\n",
        "    e_total = np.sum(e, axis=0, keepdims=True)\n",
        "    #print(e.shape, e_total.shape)\n",
        "    \n",
        "    return np.divide(e,e_total)\n",
        "\n",
        "\n",
        "\n",
        "\n",
        "  def initialize_params(self, layers_list, method):\n",
        "    \"\"\" Args: layers_list : containing the number of neurons (nodes) for each layer in the netwrok.\n",
        "              method: a tuple. method[0] contains type of initialization (random/trunc_normal)\n",
        "                                method[1] contains multiplying_factor for random initialization\n",
        "                                          contains (mean, sd,low,upp) for truncated_normal\n",
        "        returns: Initialized parameters : Weights (W), Bias (b) for each layers in a dictionary data structure.\n",
        "\n",
        "    \"\"\"\n",
        "\n",
        "    params = {}\n",
        "    num_layers = len(layers_list)\n",
        "    if method == 'random':\n",
        "      mult_factor = 0.01\n",
        "      for l in range(1,num_layers):\n",
        "        params['W' + str(l)] = np.random.randn(layers_list[l], layers_list[l-1])*mult_factor\n",
        "        params['b' + str(l)] = np.zeros((layers_list[l], 1))\n",
        "\n",
        "    if method == 'trunc_normal':\n",
        "      mean, sd,low,upp = 0, 1, -0.5, 0.5\n",
        "      for l in range(1, num_layers):\n",
        "        temp = truncnorm((low - mean) / sd, (upp - mean) / sd, loc=mean, scale=sd)\n",
        "        params['W' + str(l)] = temp.rvs((layers_list[l], layers_list[l-1]))\n",
        "        params['b' + str(l)] = np.zeros((layers_list[l], 1))\n",
        "\n",
        "    if method == 'zeros':\n",
        "      for l in range(1,num_layers):\n",
        "        params['W' + str(l)] = np.zeros((layers_list[l], layers_list[l-1]))\n",
        "        params['b' + str(l)] = np.zeros((layers_list[l], 1))\n",
        "\n",
        "\n",
        "    if method == 'he':\n",
        "      for l in range(1,num_layers):\n",
        "        params['W' + str(l)] = np.random.randn(layers_list[l], layers_list[l-1])*np.sqrt(2/layers_list[l-1])\n",
        "        params['b' + str(l)] = np.zeros((layers_list[l], 1))\n",
        "\n",
        "    if method == 'xavier':\n",
        "      for l in range(1,num_layers):\n",
        "        params['W' + str(l)] = np.random.randn(layers_list[l], layers_list[l-1])*np.sqrt(1/layers_list[l-1])\n",
        "        params['b' + str(l)] = np.zeros((layers_list[l], 1))\n",
        "\n",
        "    return params\n",
        "\n",
        "\n",
        "  def linear_activation(self, W,b,A,activation_function):\n",
        "    \"\"\"\n",
        "    Args: W,b - parameters for the current layer; \n",
        "          A- linear activation (Z = WA_prev + b) for the current layer;\n",
        "          activation_function\n",
        "    returns: A_forward, memories of current activation, dropout memory (if dropout)\n",
        "    \"\"\"\n",
        "\n",
        "    Z_current = np.dot(W,A) + b\n",
        "    #Z_current = np.squeeze(Z_current)\n",
        "    #print(Z_current.shape)\n",
        "    #print(Z_current)\n",
        "    linear_memory = (A,W,b)\n",
        "    drop_flag = 0\n",
        "    if activation_function == 'sigmoid':\n",
        "      A_current = self.sigmoid(Z_current)\n",
        "\n",
        "    if activation_function == 'relu':\n",
        "      A_current= self.relu(Z_current)\n",
        "\n",
        "    if activation_function == 'relu+dropout':\n",
        "      A_current= self.relu(Z_current)\n",
        "      D_current = np.random.rand(A_current.shape[0], A_current.shape[1])\n",
        "      D_current = (D_current < (1- self.drop_rate)).astype(int)\n",
        "      A_current = A_current*D_current\n",
        "      A_current = A_current/(1- self.drop_rate)\n",
        "      drop_flag = 1\n",
        "\n",
        "    \n",
        "    if activation_function == 'sigmoid+dropout':\n",
        "      A_current= self.sigmoid(Z_current)\n",
        "      D_current = np.random.rand(A_current.shape[0], A_current.shape[1])\n",
        "      D_current = (D_current < (1- self.drop_rate)).astype(int)\n",
        "      A_current = A_current*D_current\n",
        "      A_current = A_current/(1- self.drop_rate)\n",
        "      drop_flag = 1\n",
        "      \n",
        "\n",
        "    if activation_function == 'softmax':\n",
        "      A_current = self.softmax(Z_current)\n",
        "\n",
        "    if drop_flag == 0:\n",
        "      memory_current = (linear_memory, Z_current)\n",
        "    else:\n",
        "      memory_current = (linear_memory, Z_current, D_current)\n",
        "    return (A_current, memory_current)\n",
        "\n",
        "\n",
        "\n",
        "  def forward_propagation(self, A0, params, activation_functions):\n",
        "    \"\"\" \n",
        "    Args: A0 - X input\n",
        "          params - dictionary containing W and b for all the layers\n",
        "          activation_functions containing activation function used in all the layers (['relu',...,'sigmoid','softmax'])\n",
        "    returns: Activation output of last layer and the memory (W,b,Z,A) in each layer\n",
        "    \"\"\"\n",
        "    num_layers = len(params)//2\n",
        "    #print(f'shape of num_layers : {num_layers}')\n",
        "    memory = []\n",
        "    A_current = A0\n",
        "    for l in range(1,num_layers):\n",
        "      W_current = params['W' + str(l)]\n",
        "      b_current = params['b' + str(l)]\n",
        "      A_prev = A_current\n",
        "      #print(f'W : {W_current.shape} A : {A_current.shape}')\n",
        "      A_current, memory_current = self.linear_activation(W_current, b_current, A_prev, activation_functions[l])\n",
        "      memory.append(memory_current)\n",
        "    \n",
        "    W_current = params['W'+str(num_layers)]\n",
        "    b_current = params['b'+str(num_layers)]\n",
        "    #print(\"Activation for lasy layer : \", activation_functions[num_layers])\n",
        "    A_last, memory_current = self.linear_activation(W_current, b_current, A_current, activation_functions[num_layers])\n",
        "    memory.append(memory_current)  \n",
        "    #print('Output vs input shape of FWD prop:',A_last.shape, A0.shape)\n",
        "    #print(memory_current)\n",
        "    #print(memory)\n",
        "    return A_last, memory\n",
        "\n",
        "\n",
        "\n",
        "\n",
        "\n",
        "  def calculate_cost(self, A_last, Y):\n",
        "    #print('cost : ', Y.shape)\n",
        "    m = Y.shape[1]\n",
        "    #print(Y.shape, A_last.shape)\n",
        "    part1 = Y*np.log(A_last)\n",
        "\n",
        "    cost = (-1/m)*np.sum(part1)\n",
        "    cost = np.squeeze(cost)\n",
        "    return cost\n",
        "\n",
        "\n",
        "  def calculate_cost_L2_regularised(self, A_last, Y, parameters, lambd):\n",
        "    m = Y.shape[1]\n",
        "    L = len(parameters)//2\n",
        "    cost_without_reg = self.calculate_cost(A_last, Y)\n",
        "    L2_reg = 0\n",
        "    for l in range(1,L+1):\n",
        "      W = parameters['W' + str(l)]\n",
        "      L2_reg += np.sum(np.square(W))\n",
        "\n",
        "    L2_reg = (lambd/(2*m))*L2_reg\n",
        "\n",
        "    \n",
        "    cost = cost_without_reg + L2_reg\n",
        "    \n",
        "    return cost\n",
        "\n",
        "  def linear_backward(self,dA, memory, activation_function):\n",
        "    \"\"\" \n",
        "    Args: dA - derivative of next layer output w.r.t A of current layer\n",
        "          memory - contains values of Z,W,b,A for corresponding layer stored while forward propagation.\n",
        "          activation_function - 'relu'/'sigmoid'\n",
        "    returns: dA_previous (dL/dAl-1) - derivative of cost w.r.t activation of previous layers, \n",
        "            dW (dL/dWl)- derivative of cost w.r.t weight W of current layer\n",
        "            db (dL/db) -  derivative of cost w.r.t bias b of current layer\n",
        "    \"\"\"\n",
        "    \n",
        "    if self.drop_rate ==0:\n",
        "      A_previous, W, b = memory[0]\n",
        "      Z = memory[1]\n",
        "    else:\n",
        "      A_previous, W, b = memory[0]\n",
        "      Z = memory[1]\n",
        "      D = memory[2]\n",
        "\n",
        "\n",
        "    m = A_previous.shape[1]\n",
        "\n",
        "    if activation_function == 'relu':\n",
        "      dZ = self.relu_derivative(dA,Z)\n",
        "\n",
        "    elif activation_function == 'sigmoid':\n",
        "      dZ = self.sigmoid_derivative(dA,Z)\n",
        "\n",
        "    elif activation_function == 'relu+dropout':\n",
        "      dA = dA*D\n",
        "      dA = dA/(1-self.drop_rate)\n",
        "      dZ = self.relu_derivative(dA,Z)\n",
        "\n",
        "\n",
        "    elif activation_function == 'sigmoid+dropout':\n",
        "      dA = dA*D\n",
        "      dA = dA/(1-self.drop_rate)\n",
        "      dZ = self.sigmoid_derivative(dA,Z)\n",
        "\n",
        "\n",
        "\n",
        "\n",
        "    \n",
        "    dW = (1/m)*np.dot(dZ, A_previous.T)\n",
        "    db = (1/m)*np.sum(dZ, axis=1, keepdims=True)\n",
        "    dA_previous = np.dot(W.T,dZ)\n",
        "\n",
        "    return dA_previous, dW, db\n",
        "\n",
        "\n",
        "  def backward_propagation(self,A_last, Y, memory, activation_functions):\n",
        "    \n",
        "    num_layers = len(memory)\n",
        "    grads = {}\n",
        "    Y = Y.reshape(A_last.shape)\n",
        "    m = Y.shape[1]\n",
        "\n",
        "    #dA_last = A_last - Y\n",
        "\n",
        "    memory_current = memory[-1] #(A_L-1,W_L,b_L), Z_last(output of softmax layer)\n",
        "    dZ_last = A_last - Y\n",
        "\n",
        "    A_previous, W, b = memory_current[0]\n",
        "    \n",
        "    dW_current = (1/m)*np.dot(dZ_last, A_previous.T)\n",
        "    db_current = (1/m)*np.sum(dZ_last, axis=1, keepdims=True)\n",
        "    dA_previous = np.dot(W.T,dZ_last)\n",
        "\n",
        "    #dW_current, db_current = linear_backward(dZ_last, memory_current, activation_functions[-1])\n",
        "      \n",
        "    grads[\"dA\" + str(num_layers-1)] = dA_previous\n",
        "    grads[\"dW\" + str(num_layers)] = dW_current\n",
        "    grads[\"db\" + str(num_layers)] = db_current\n",
        "\n",
        "    for l in range(num_layers-2,-1,-1):\n",
        "      memory_current = memory[l]\n",
        "      #print('flkqenfnejnqn ', activation_functions[l])\n",
        "      dA_previous = grads[\"dA\" + str(l+1)]\n",
        "      dA_previous, dW_current, db_current = self.linear_backward(dA_previous, memory_current, activation_functions[l])\n",
        "      \n",
        "      grads[\"dA\" + str(l)] = dA_previous\n",
        "      grads[\"dW\" + str(l+1)] = dW_current\n",
        "      grads[\"db\" + str(l+1)] = db_current\n",
        "\n",
        "\n",
        "    return grads\n",
        "\n",
        "\n",
        "  def backward_propagation_L2_regularised(self, A_last, Y, memory, activation_functions, lambd):\n",
        "    \n",
        "    num_layers = len(memory)\n",
        "    grads = {}\n",
        "    Y = Y.reshape(A_last.shape)\n",
        "    m = Y.shape[1]\n",
        "\n",
        "    memory_current = memory[-1] #(A_L-1,W_L,b_L), Z_last(output of softmax layer)\n",
        "    dZ_last = A_last - Y\n",
        "\n",
        "    A_previous, W, b = memory_current[0]\n",
        "    \n",
        "    dW_current = (1/m)*np.dot(dZ_last, A_previous.T) + (lambd/m)*W\n",
        "    db_current = (1/m)*np.sum(dZ_last, axis=1, keepdims=True)\n",
        "    dA_previous = np.dot(W.T,dZ_last)\n",
        "\n",
        "    #dW_current, db_current = linear_backward(dZ_last, memory_current, activation_functions[-1])\n",
        "      \n",
        "    grads[\"dA\" + str(num_layers-1)] = dA_previous\n",
        "    grads[\"dW\" + str(num_layers)] = dW_current\n",
        "    grads[\"db\" + str(num_layers)] = db_current\n",
        "\n",
        "    for l in range(num_layers-2,-1,-1):\n",
        "      memory_current = memory[l]\n",
        "      #print('flkqenfnejnqn ', activation_functions[l])\n",
        "      dA_previous = grads[\"dA\" + str(l+1)]\n",
        "      dA_previous, dW_current, db_current = self.linear_backward(dA_previous, memory_current, activation_functions[l])\n",
        "\n",
        "      A_previous_, W_, b_ = memory_current[0] #fetching memory cache\n",
        "      dW_current += (lambd/m)*W_    #adding L2 regularised term\n",
        "      \n",
        "      grads[\"dA\" + str(l)] = dA_previous\n",
        "      grads[\"dW\" + str(l+1)] = dW_current\n",
        "      grads[\"db\" + str(l+1)] = db_current\n",
        "\n",
        "\n",
        "    return grads\n",
        "\n",
        "  def gradient_descent(self,params, grads, learning_rate):\n",
        "    \"\"\"\n",
        "    Args: params - initialized parameters (W,b). {W1:__, b1:__}\n",
        "          grads - calculated gradients dictionary during backward_propagation\n",
        "          learning_rate - alpha of gradient descent\n",
        "\n",
        "    return : updated params dictionary\n",
        "    \"\"\"\n",
        "    num_layers = len(params)//2\n",
        "    updated_params = params.copy()\n",
        "    for l in range(1,num_layers+1):\n",
        "      updated_params['W' + str(l)] -= learning_rate*grads['dW' + str(l)]\n",
        "      updated_params['b' + str(l)] -= learning_rate*grads['db' + str(l)]\n",
        "\n",
        "    return updated_params\n",
        "\n",
        "  def initialize_adam_moments(self, parameters):\n",
        "    \"\"\"\n",
        "    Args: paramters dict including W and b for all layers\n",
        "    return: v dict and s dict containing velocities and squared velocities initi\n",
        "            - lized to zeros.\n",
        "    \"\"\"\n",
        "    num_layers = len(parameters)//2\n",
        "    v = {}\n",
        "    s = {}\n",
        "    for l in range(1,num_layers+1):\n",
        "        v[\"dW\" + str(l)] = np.zeros(parameters[\"W\" + str(l)].shape)\n",
        "        v[\"db\" + str(l)] = np.zeros(parameters[\"b\" + str(l)].shape)\n",
        "        s[\"dW\" + str(l)] = np.zeros(parameters[\"W\" + str(l)].shape)\n",
        "        s[\"db\" + str(l)] = np.zeros(parameters[\"b\" + str(l)].shape)\n",
        "\n",
        "    return v,s\n",
        "\n",
        "  \n",
        "\n",
        "  def adam(self,params, grads, v, s,adam_counter, learning_rate, beta1, beta2,  epsilon):\n",
        "    \"\"\"\n",
        "    Args: params - initialized parameters (W,b). {W1:__, b1:__}\n",
        "          grads - calculated gradients dictionary during backward_propagation\n",
        "          learning_rate - alpha of gradient descent\n",
        "\n",
        "    return : updated params dictionary\n",
        "    \"\"\"\n",
        "    num_layers = len(params)//2\n",
        "    v_final, s_final = {}, {}\n",
        "    updated_params = params.copy()\n",
        "\n",
        "    for l in range(1,num_layers+1):\n",
        "        v[\"dW\" + str(l)] = beta1*v[\"dW\" + str(l)] + (1 - beta1)*grads['dW' + str(l)]\n",
        "        v[\"db\" + str(l)] = beta1*v[\"db\" + str(l)] + (1 - beta1)*grads['db' + str(l)]   \n",
        "        v_final[\"dW\" + str(l)] = v[\"dW\" + str(l)]/(1 - beta1**adam_counter)\n",
        "        v_final[\"db\" + str(l)] =  v[\"db\" + str(l)]/(1 - beta1**adam_counter) \n",
        "\n",
        "        s[\"dW\" + str(l)] = beta2*s[\"dW\" + str(l)] + (1 - beta2)*np.square(grads['dW' + str(l)])\n",
        "        s[\"db\" + str(l)] = beta2*s[\"db\" + str(l)] + (1 - beta2)*np.square(grads['db' + str(l)])\n",
        "        s_final[\"dW\" + str(l)] = s[\"dW\" + str(l)]/(1 - beta2**adam_counter)\n",
        "        s_final[\"db\" + str(l)] = s[\"db\" + str(l)]/(1 - beta2**adam_counter)    \n",
        "\n",
        "        updated_params[\"W\" + str(l)] -= learning_rate*v_final[\"dW\" + str(l)]/(np.sqrt(s_final[\"dW\" + str(l)]) + epsilon)\n",
        "        updated_params[\"b\" + str(l)] -= learning_rate*v_final[\"db\" + str(l)]/(np.sqrt(s_final[\"db\" + str(l)]) + epsilon)\n",
        "\n",
        "\n",
        "\n",
        "    return updated_params, v, s, v_final, s_final\n",
        "\n",
        "\n",
        "\n",
        "\n",
        "  def train(self,X,Y,epochs, optimizer, beta1=0.9, beta2=0.99,epsilon=1e-8,print_cost=True):\n",
        "\n",
        "      # MY MODEL:\n",
        "      \"\"\"\n",
        "      def initialize_params(layers_list, method):\n",
        "          ...\n",
        "          return parameters \n",
        "      def forward_propagation(A0, params, activation_functions):\n",
        "          ...\n",
        "          return A_last, [((A_L-1,W_L,b_L), Z_last),\n",
        "                          ((A_L-2,W_L-1,b_L-1), Z_last-1),\n",
        "                          ((A_L-3,W_L-2,b_L-2), Z_last-2)\n",
        "                          .\n",
        "                          .\n",
        "                          .\n",
        "                          ((A0(X),W_1,b_1), Z_1)]\n",
        "      def calculate_cost(A_last, Y):\n",
        "          ...\n",
        "          return cost\n",
        "      def backward_propagation(A_last, Y, memory, activation_functions):\n",
        "          ...\n",
        "          return {dAL-1, dWL, dbL,\n",
        "                  dAL-2, dWL-1, dbL-1,\n",
        "                  .\n",
        "                  .\n",
        "                  .\n",
        "                  dA0, dW1, db1}\n",
        "      def gradient_descent(params, grads, learning_rate):\n",
        "          ...\n",
        "          return updated_parameters\n",
        "      \"\"\"\n",
        "\n",
        "\n",
        "      np.random.seed(1)\n",
        "      costs = []               \n",
        "      m = X.shape[1]\n",
        "      params = self.initialize_params(self.layers_list, self.weight_initializer) #initlizing weights:\n",
        "      adam_counter = 0\n",
        "\n",
        "      #initilizing moments (adam):\n",
        "      if optimizer == 'adam':\n",
        "        v,s = self.initialize_adam_moments(params)\n",
        "\n",
        "      #lopping for number of iterations:\n",
        "\n",
        "      if self.sgd == True:\n",
        "        for i in range(0, epochs):\n",
        "          total_cost = 0\n",
        "          for j in range(0,m):\n",
        "            \n",
        "            # Forward propagation:\n",
        "            #print(np.reshape(X[:,j],(X.shape[0],1)))\n",
        "            A_last, memory = self.forward_propagation(np.reshape(X[:,j],(X.shape[0],1)), params, self.activation_functions)\n",
        "            #print('A Last : ',A_last.shape)\n",
        "            # Compute cost.\n",
        "\n",
        "            if self.lambd == 0:\n",
        "              total_cost += self.calculate_cost(A_last, np.reshape(Y[:,j],(Y.shape[0],1)))\n",
        "            else:\n",
        "              total_cost += self.calculate_cost_L2_regularised(A_last, np.reshape(Y[:,j],(Y.shape[0],1)), params, self.lambd)\n",
        "            #print('Cost : ',cost)\n",
        "            # Backward propagation.\n",
        "            if self.lambd==0:\n",
        "              grads = self.backward_propagation(A_last, np.reshape(Y[:,j],(Y.shape[0],1)), memory, self.activation_functions)\n",
        "            elif self.lambd !=0:\n",
        "              grads = self.backward_propagation_L2_regularised(A_last, np.reshape(Y[:,j],(Y.shape[0],1)), memory, self.activation_functions, self.lambd)\n",
        "            # Update parameters.\n",
        "            if optimizer == 'adam':\n",
        "              adam_counter += 1\n",
        "              params, v, s, _, _ = self.adam(params, grads, v, s,adam_counter, learning_rate, beta1, beta2,  epsilon)\n",
        "            else:\n",
        "              params = self.gradient_descent(params, grads, self.learning_rate)\n",
        "\n",
        "          cost = total_cost/m\n",
        "          \n",
        "          # Print the cost every iterations\n",
        "          print(\"Cost after iteration {}: {}\".format(i+1, np.squeeze(cost)))\n",
        "          costs.append(cost)\n",
        "\n",
        "      else:\n",
        "        for i in range(0, epochs):\n",
        "\n",
        "            # Forward propagation:\n",
        "            \n",
        "            A_last, memory = self.forward_propagation(X, params, self.activation_functions)\n",
        "            \n",
        "            #print('A last shape : ', A_last.shape)\n",
        "            #print('memory : ', memory.keys())\n",
        "\n",
        "            # Compute cost.\n",
        "            if self.lambd == 0:\n",
        "              cost = self.calculate_cost(A_last, Y)\n",
        "            else:\n",
        "              cost = self.calculate_cost_L2_regularised(A_last, Y, params, self.lambd)\n",
        "            #cost = self.calculate_cost(A_last, self.Y)\n",
        "                    \n",
        "            # Backward propagation.\n",
        "            if self.lambd==0:\n",
        "              grads = self.backward_propagation(A_last, Y, memory, self.activation_functions)\n",
        "            elif self.lambd !=0:\n",
        "              grads = self.backward_propagation_L2_regularised(A_last, Y, memory, self.activation_functions, self.lambd)\n",
        "          \n",
        "\n",
        "            \n",
        "            # Update parameters.\n",
        "            params = self.gradient_descent(params, grads, self.learning_rate)\n",
        "          \n",
        "            # Print the cost every 10 iterations\n",
        "            if print_cost and i % 10 == 0 or i == epochs - 1:\n",
        "                print(\"Cost after iteration {}: {}\".format(i, np.squeeze(cost)))\n",
        "            if i % 10 == 0 or i == epochs:\n",
        "                costs.append(cost)\n",
        "        \n",
        "      return params, costs\n",
        "\n",
        "\n",
        "  def predict(self,input_x,final_params):\n",
        "    y_pred_scores, memory_pred = self.forward_propagation(input_x, final_params, self.activation_functions)\n",
        "    y_pred = np.argmax(y_pred_scores,axis=0)\n",
        "\n",
        "    return y_pred, y_pred_scores\n",
        "\n",
        "  def accuracy(self,y_pred, y_actual):\n",
        "    acc = np.sum(np.equal(y_actual, y_pred)) / len(y_actual)\n",
        "    return acc\n",
        "\n",
        "\n",
        "\n",
        "    "
      ]
    },
    {
      "cell_type": "code",
      "execution_count": 19,
      "metadata": {
        "id": "okEIGJqYVKXW"
      },
      "outputs": [],
      "source": [
        "class Data():\n",
        "  def visualize(self, rows, cols):\n",
        "    plt.figure(figsize=(12,8))\n",
        "    for i in range(rows*cols):\n",
        "      plt.subplot(2,3,i+1)\n",
        "      plt.imshow(train_x_orig[i])\n",
        "\n",
        "\n",
        "  def getInfo(self, train_x_orig, train_y, test_x_orig, test_y):\n",
        "    print('X Train data size : ', train_x_orig.shape)\n",
        "    print('Y Train data size : ', train_y.shape)\n",
        "    print('X Test data size : ', test_x_orig.shape)\n",
        "    print('Y Test data size : ', test_y.shape)\n",
        "    print('='*50)\n",
        "    #print('Total training examples : ', train_y.shape[0] )\n",
        "\n",
        "\n",
        "  def preprocess_data(self,train_x_orig, train_y, test_x_orig, test_y, n_classes):\n",
        "    m_train = train_y.shape[0]\n",
        "    X_train = train_x_orig.reshape(m_train, -1).T\n",
        "    X_train = X_train/255.\n",
        "    y_train = to_categorical(train_y,n_classes)\n",
        "    y_train = y_train.T\n",
        "    \n",
        "\n",
        "    m_test = test_y.shape[0]\n",
        "    X_test = test_x_orig.reshape(m_test, -1).T\n",
        "    X_test = X_test/255.\n",
        "    y_test = to_categorical(test_y,n_classes)\n",
        "    y_test = y_test.T\n",
        "  \n",
        "\n",
        "    self.getInfo(X_train, y_train, X_test, y_test)\n",
        "    \n",
        "    return (X_train, y_train, X_test, y_test)\n",
        "    \n",
        "\n",
        "  "
      ]
    },
    {
      "cell_type": "code",
      "execution_count": 20,
      "metadata": {
        "id": "2RfLGZAB8b8N",
        "colab": {
          "base_uri": "https://localhost:8080/"
        },
        "outputId": "5fd8d56b-fd1c-4990-eb30-8272b00814ba"
      },
      "outputs": [
        {
          "output_type": "stream",
          "name": "stdout",
          "text": [
            "trunc_normal weight initialzation working CORRECTLY\n",
            "he weight initialzation working CORRECTLY\n",
            "xavier weight initialzation working CORRECTLY\n",
            "zeros weight initialzation working CORRECTLY\n",
            "random weight initialzation working CORRECTLY\n",
            "linear_activation working CORRECTLY\n",
            "gradient_descent working CORRECTLY.\n",
            "forward_propagation working CORRECTLY\n",
            "linear_backward working CORRECTLY\n",
            "linear_backward working CORRECTLY\n",
            "Adam working CORRECTLY\n"
          ]
        }
      ],
      "source": [
        "\n",
        "#Test Suits:\n",
        "\n",
        "layers_list = [784, 256,64, 10]\n",
        "activation_functions = ['relu','relu','relu','softmax']\n",
        "weight_initializer = 'he'\n",
        "learning_rate = 0.1\n",
        "lambd = 0\n",
        "drop_rate=0\n",
        "\n",
        "sgd = False\n",
        "\n",
        "my_model = My_Neural_Network(layers_list,activation_functions, weight_initializer,learning_rate,lambd,drop_rate, sgd)\n",
        "\n",
        "def test_suit_gradient_descent():\n",
        "\n",
        "    parameters = {'W1': np.array([[ 1.63535156, -0.62320365, -0.53718766],\n",
        "                          [-1.07799357,  0.85639907, -2.29470142]]),\n",
        "                  'b1': np.array([[ 1.74604067],\n",
        "                          [-0.75184921]]),\n",
        "                  'W2': np.array([[ 0.32171798, -0.25467393,  1.46902454],\n",
        "                          [-2.05617317, -0.31554548, -0.3756023 ],\n",
        "                          [ 1.1404819 , -1.09976462, -0.1612551 ]]),\n",
        "                  'b2': np.array([[-0.88020257],\n",
        "                          [ 0.02561572],\n",
        "                          [ 0.57539477]])}\n",
        "    grads = {'dW1': np.array([[-1.10061918,  1.14472371,  0.90159072],\n",
        "                      [ 0.50249434,  0.90085595, -0.68372786]]),\n",
        "              'db1': np.array([[-0.12289023],\n",
        "                      [-0.93576943]]),\n",
        "              'dW2': np.array([[-0.26788808,  0.53035547, -0.69166075],\n",
        "                      [-0.39675353, -0.6871727 , -0.84520564],\n",
        "                      [-0.67124613, -0.0126646 , -1.11731035]]),\n",
        "              'db2': np.array([[0.2344157 ],\n",
        "                      [1.65980218],\n",
        "                      [0.74204416]])}\n",
        "    learning_rate = 0.01\n",
        "\n",
        "    params = my_model.gradient_descent(parameters, grads, learning_rate)\n",
        "    W1 = params['W1']\n",
        "    W2 = params['W2']\n",
        "    b1 = params['b1']\n",
        "    b2 = params['b2']\n",
        "  \n",
        "    W1_0 = parameters['W1']\n",
        "    W2_0 = parameters['W2']\n",
        "    b1_0 = parameters['b1']\n",
        "    b2_0 = parameters['b2']\n",
        "\n",
        "\n",
        "\n",
        "\n",
        "    assert W1.shape == W1_0.shape\n",
        "    assert b1.shape == b1_0.shape\n",
        "    assert W2.shape == W2_0.shape\n",
        "    assert b2.shape == b2_0.shape\n",
        "    \n",
        "    assert (np.round(np.sum(W1),4) == np.round(np.sum(np.array([[ 1.64635775, -0.63465089, -0.54620357],[-1.08301851,  0.84739051, -2.28786414]])),4))\n",
        "    assert (np.round(np.sum(b1),4) == np.round(np.sum(np.array([[ 1.74726957],[-0.74249152]])),4))\n",
        "    assert (np.round(np.sum(W2),4) == np.round(np.sum(np.array([[  0.32439686, -0.25997748,  1.47594115], [-2.05220563, -0.30867375, -0.36715024 ], [ 1.14719436, -1.09963797, -0.150082 ]])),4))\n",
        "    assert (np.round(np.sum(b2),4) == np.round(np.sum(np.array([[-0.88254673], [ 0.0090177], [ 0.56797433]])),4))\n",
        "\n",
        "\n",
        "\n",
        "    print(\"gradient_descent working CORRECTLY.\")\n",
        "\n",
        "  \n",
        "#test_suit_gradient_descent()\n",
        "\n",
        "def test_initialize_params():\n",
        "    layers_list = [64,32,16,10]\n",
        "    methods = ['trunc_normal','he','xavier','zeros','random']\n",
        "    W1_shape, b1_shape = (32,64), (32,1)\n",
        "    W2_shape, b2_shape = (16,32), (16,1)\n",
        "    W3_shape, b3_shape = (10,16), (10,1)\n",
        "    for method in methods:\n",
        "      params = my_model.initialize_params(layers_list, method='random')\n",
        "      W1,b1 = params['W1'], params['b1']\n",
        "      W2,b2 = params['W2'], params['b2']\n",
        "      W3,b3 = params['W3'], params['b3']\n",
        "      #print(b2.shape)\n",
        "      assert len(params) == (len(layers_list)-1)*2\n",
        "      assert W1.shape == (32,64)\n",
        "      assert b1.shape == (32,1)\n",
        "      assert W2.shape == (16,32)\n",
        "      assert b2.shape == (16,1)\n",
        "      assert W3.shape == (10,16)\n",
        "      assert b3.shape == (10,1)\n",
        "\n",
        "      print(f\"{method} weight initialzation working CORRECTLY\")\n",
        "#test_initialize_params()   \n",
        "\n",
        "def test_linear_activation():\n",
        "    W = np.array([[ 0.50288142, -1.24528809, -1.05795222]])\n",
        "    b = np.array([[-0.90900761]])\n",
        "    A = np.array([[-0.41675785, -0.05626683],\n",
        "        [-2.1361961 ,  1.64027081],\n",
        "        [-1.79343559, -0.84174737]])\n",
        "    activation_functions = ['relu','sigmoid']\n",
        "\n",
        "    (A_current, memory_current) = my_model.linear_activation(W,b,A,'sigmoid')\n",
        "    assert np.round(np.sum(A_current),4) == np.round(np.sum(np.array([[0.96890023, 0.11013289]])),4)\n",
        "    (A_current, memory_current) = my_model.linear_activation(W,b,A,'relu')\n",
        "    assert np.round(np.sum(A_current),4) == np.round(np.sum(np.array([[3.43896131, 0.        ]])),4)\n",
        "\n",
        "    print(\"linear_activation working CORRECTLY\")\n",
        "\n",
        "#test_linear_activation()\n",
        "\n",
        "\n",
        "def test_forward_propagation():\n",
        "    A0 = np.array([[-0.31178367,  0.72900392,  0.21782079, -0.8990918 ],\n",
        "        [-2.48678065,  0.91325152,  1.12706373, -1.51409323],\n",
        "        [ 1.63929108, -0.4298936 ,  2.63128056,  0.60182225],\n",
        "        [-0.33588161,  1.23773784,  0.11112817,  0.12915125],\n",
        "        [ 0.07612761, -0.15512816,  0.63422534,  0.810655  ]])\n",
        "    \n",
        "    params = {'W1': np.array([[ 0.35480861,  1.81259031, -1.3564758 , -0.46363197,  0.82465384],\n",
        "                    [-1.17643148,  1.56448966,  0.71270509, -0.1810066 ,  0.53419953],\n",
        "                    [-0.58661296, -1.48185327,  0.85724762,  0.94309899,  0.11444143],\n",
        "                    [-0.02195668, -2.12714455, -0.83440747, -0.46550831,  0.23371059]]),\n",
        "              'b1': np.array([[ 1.38503523],\n",
        "                    [-0.51962709],\n",
        "                    [-0.78015214],\n",
        "                    [ 0.95560959]]),\n",
        "              'W2': np.array([[-0.12673638, -1.36861282,  1.21848065, -0.85750144],\n",
        "                    [-0.56147088, -1.0335199 ,  0.35877096,  1.07368134],\n",
        "                    [-0.37550472,  0.39636757, -0.47144628,  2.33660781]]),\n",
        "              'b2': np.array([[ 1.50278553],\n",
        "                    [-0.59545972],\n",
        "                    [ 0.52834106]]),\n",
        "              'W3': np.array([[ 0.9398248 ,  0.42628539, -0.75815703]]),\n",
        "              'b3': np.array([[-0.16236698]])}\n",
        "             \n",
        "    activation_functions = ['relu','relu','relu','sigmoid']\n",
        "    A_last, memory = my_model.forward_propagation(A0, params, activation_functions)\n",
        "    assert np.round(np.sum(A_last),4) == np.round(np.sum(np.array([[0.03921668, 0.70498921, 0.19734387, 0.04728177]])),4)\n",
        "    print(\"forward_propagation working CORRECTLY\")\n",
        "\n",
        "\n",
        "#test_forward_propagation()\n",
        "\n",
        "def test_linear_backward():\n",
        "    dA = np.array([[-0.41675785, -0.05626683]])\n",
        "    #Z,W,b,A\n",
        "    # memory[0] = A_prev, W,b\n",
        "    # memory[1] = \n",
        "    memory = (\n",
        "              (np.array([[-2.1361961 ,  1.64027081],\n",
        "                      [-1.79343559, -0.84174737],\n",
        "                      [ 0.50288142, -1.24528809]]),\n",
        "              np.array([[-1.05795222, -0.90900761,  0.55145404]]),\n",
        "              np.array([[2.29220801]])),\n",
        "              np.array([[ 0.04153939, -1.11792545]])\n",
        "              )\n",
        "    activation_function = ['relu','relu','relu','sigmoid']\n",
        "    dA_previous, dW, db = my_model.linear_backward(dA, memory, 'sigmoid')\n",
        "    assert np.round(np.sum(dA_previous),4) == np.round(np.sum(np.array([[ 0.11017994,  0.01105339],[ 0.09466817,  0.00949723],[-0.05743092, -0.00576154]])),4)\n",
        "    assert np.round(np.sum(dW),4) == np.round(np.sum(np.array([[ 0.10266786,  0.09778551, -0.01968084]])),4)\n",
        "    assert np.round(np.sum(db),4) == np.round(np.sum(np.array([[-0.05729622]])),4)\n",
        "    dA_previous, dW, db = my_model.linear_backward(dA, memory, 'relu')\n",
        "    assert np.round(np.sum(dA_previous),4) == np.round(np.sum(np.array([[ 0.44090989,  0.        ],[ 0.37883606,  0.],[-0.2298228,   0.        ]])),4)\n",
        "    assert np.round(np.sum(dW),4) == np.round(np.sum(np.array([[ 0.44513824,  0.37371418, -0.10478989]])),4)\n",
        "    assert np.round(np.sum(db),4) == np.round(np.sum(np.array([[-0.20837892]])),4)\n",
        "    print('linear_backward working CORRECTLY')         \n",
        "\n",
        "\n",
        "def adam_test():\n",
        "    params = {'W1': np.array([[ 1.62434536, -0.61175641, -0.52817175],\n",
        "                    [-1.07296862,  0.86540763, -2.3015387 ]]),\n",
        "              'b1': np.array([[ 1.74481176],\n",
        "                    [-0.7612069 ]]),\n",
        "              'W2': np.array([[ 0.3190391 , -0.24937038,  1.46210794],\n",
        "                    [-2.06014071, -0.3224172 , -0.38405435],\n",
        "                    [ 1.13376944, -1.09989127, -0.17242821]]),\n",
        "              'b2': np.array([[-0.87785842],\n",
        "                    [ 0.04221375],\n",
        "                    [ 0.58281521]])}\n",
        "    grads = {'dW1': np.array([[-1.10061918,  1.14472371,  0.90159072],\n",
        "                  [ 0.50249434,  0.90085595, -0.68372786]]),\n",
        "            'db1': np.array([[-0.12289023],\n",
        "                  [-0.93576943]]),\n",
        "            'dW2': np.array([[-0.26788808,  0.53035547, -0.69166075],\n",
        "                  [-0.39675353, -0.6871727 , -0.84520564],\n",
        "                  [-0.67124613, -0.0126646 , -1.11731035]]),\n",
        "            'db2': np.array([[0.2344157 ],\n",
        "                  [1.65980218],\n",
        "                  [0.74204416]])}\n",
        "              \n",
        "    v0 = {'dW1': np.array([[0., 0., 0.],\n",
        "                [0., 0., 0.]]),\n",
        "          'dW2': np.array([[0., 0., 0.],\n",
        "                [0., 0., 0.],\n",
        "                [0., 0., 0.]]),\n",
        "          'db1': np.array([[0.],\n",
        "                [0.]]),\n",
        "          'db2': np.array([[0.],\n",
        "                [0.],\n",
        "                [0.]])}\n",
        "    s0 = {'dW1': np.array([[0., 0., 0.],\n",
        "              [0., 0., 0.]]),\n",
        "        'dW2': np.array([[0., 0., 0.],\n",
        "              [0., 0., 0.],\n",
        "              [0., 0., 0.]]),\n",
        "        'db1': np.array([[0.],\n",
        "              [0.]]),\n",
        "        'db2': np.array([[0.],\n",
        "              [0.],\n",
        "              [0.]])}\n",
        "    adam_counter, learning_rate, beta1, beta2, epsilon = (2, 0.02, 0.8, 0.888, 0.01)\n",
        "\n",
        "    updated_params, v, s, v_final, s_final = my_model.adam(params, grads, v0, s0,adam_counter, learning_rate, beta1, beta2,  epsilon)\n",
        "\n",
        "    W1 = updated_params['W1']\n",
        "    W2 = updated_params['W2']\n",
        "    b1 = updated_params['b1']\n",
        "    b2 = updated_params['b2']\n",
        "\n",
        "    W1_0 = params['W1']\n",
        "    W2_0 = params['W2']\n",
        "    b1_0 = params['b1']\n",
        "    b2_0 = params['b2']\n",
        "\n",
        "\n",
        "\n",
        "\n",
        "    assert W1.shape == W1_0.shape\n",
        "    assert b1.shape == b1_0.shape\n",
        "    assert W2.shape == W2_0.shape\n",
        "    assert b2.shape == b2_0.shape\n",
        "    \n",
        "    #print(np.sum(W1))\n",
        "    #print(np.round(np.sum(np.array([[ 1.63942428, -0.6268425,  -0.54320974],[-1.08782943,  0.85036983, -2.2865723 ]])),4))\n",
        "    assert (np.round(np.sum(W1),4) == np.round(np.sum(np.array([[ 1.63942428, -0.6268425,  -0.54320974],[-1.08782943,  0.85036983, -2.2865723 ]])),4))\n",
        "    assert (np.round(np.sum(b1),4) == np.round(np.sum(np.array([[ 1.75854357],[-0.74616067]])),4))\n",
        "    assert (np.round(np.sum(W2),4) == np.round(np.sum(np.array([[ 0.33356139, -0.26425199,  1.47707772],[-2.04538458, -0.30744933,-0.36903141],[ 1.14873036, -1.09256871, -0.15734651]])),4))\n",
        "    assert (np.round(np.sum(b2),4) == np.round(np.sum(np.array([[-0.89228024],[ 0.02707193],[ 0.56782561]])),4))\n",
        "\n",
        "    print('Adam working CORRECTLY') \n",
        "\n",
        "\n",
        "  \n",
        "\n",
        "\n",
        "test_initialize_params()\n",
        "test_linear_activation()\n",
        "test_suit_gradient_descent()\n",
        "test_forward_propagation()\n",
        "test_linear_backward()\n",
        "test_linear_backward()\n",
        "adam_test()"
      ]
    },
    {
      "cell_type": "code",
      "execution_count": 15,
      "metadata": {
        "colab": {
          "base_uri": "https://localhost:8080/",
          "height": 602
        },
        "id": "ZhBgjy13QJEC",
        "outputId": "bad96c2d-4a3d-4619-f14b-2030176405d9"
      },
      "outputs": [
        {
          "output_type": "stream",
          "name": "stdout",
          "text": [
            "Downloading data from https://storage.googleapis.com/tensorflow/tf-keras-datasets/mnist.npz\n",
            "11490434/11490434 [==============================] - 0s 0us/step\n",
            "X Train data size :  (784, 60000)\n",
            "Y Train data size :  (10, 60000)\n",
            "X Test data size :  (784, 10000)\n",
            "Y Test data size :  (10, 10000)\n",
            "==================================================\n"
          ]
        },
        {
          "output_type": "display_data",
          "data": {
            "text/plain": [
              "<Figure size 864x576 with 6 Axes>"
            ],
            "image/png": "[encoded data removed]"
          },
          "metadata": {
            "needs_background": "light"
          }
        }
      ],
      "source": [
        "from keras.datasets import mnist\n",
        "from tensorflow.keras.utils import to_categorical\n",
        "\n",
        "(train_x_orig, train_y), (test_x_orig, test_y) = mnist.load_data()\n",
        "data = Data()\n",
        "data.visualize(2,3)\n",
        "X_train, y_train, X_test, y_test = data.preprocess_data(train_x_orig, train_y, test_x_orig, test_y, 10)"
      ]
    },
    {
      "cell_type": "markdown",
      "metadata": {
        "id": "79bFX26Td86T"
      },
      "source": [
        "# Model 1"
      ]
    },
    {
      "cell_type": "code",
      "execution_count": 21,
      "metadata": {
        "id": "IhViK2gHLIWG"
      },
      "outputs": [],
      "source": [
        "\n",
        "#without regularization\n",
        "\n",
        "X = X_train\n",
        "Y = y_train\n",
        "input_shape = X_train.shape[0]\n",
        "n_classes = len(np.unique(train_y))\n",
        "layers_list = [input_shape, 64,64, n_classes]\n",
        "activation_functions = ['relu','relu','relu','softmax']\n",
        "weight_initializer = 'he'\n",
        "learning_rate = 0.1\n",
        "epochs = 300\n",
        "lambd = 0\n",
        "drop_rate=0\n",
        "sgd = False\n",
        "\n",
        "\n",
        "\n",
        "\n",
        "my_model = My_Neural_Network(layers_list,activation_functions, weight_initializer,learning_rate,lambd,drop_rate, sgd)\n"
      ]
    },
    {
      "cell_type": "code",
      "execution_count": 22,
      "metadata": {
        "colab": {
          "base_uri": "https://localhost:8080/"
        },
        "id": "sCXQaWoS7f02",
        "outputId": "46ada755-836b-4e18-9897-fe95be9166ac"
      },
      "outputs": [
        {
          "output_type": "stream",
          "name": "stdout",
          "text": [
            "Cost after iteration 0: 2.4659753507045177\n",
            "Cost after iteration 10: 1.6757711029235762\n",
            "Cost after iteration 20: 1.1014606133801772\n",
            "Cost after iteration 30: 0.7875214948869396\n",
            "Cost after iteration 40: 0.6375185734175925\n",
            "Cost after iteration 50: 0.5533101539921559\n",
            "Cost after iteration 60: 0.4989292181898242\n",
            "Cost after iteration 70: 0.4605230007638965\n",
            "Cost after iteration 80: 0.4316528897197195\n",
            "Cost after iteration 90: 0.4090047450781276\n",
            "Cost after iteration 100: 0.39065555640229216\n",
            "Cost after iteration 110: 0.3753984988191435\n",
            "Cost after iteration 120: 0.36240822931005007\n",
            "Cost after iteration 130: 0.3511616801228981\n",
            "Cost after iteration 140: 0.34128458971647174\n",
            "Cost after iteration 150: 0.3324911060727222\n",
            "Cost after iteration 160: 0.3245799333922828\n",
            "Cost after iteration 170: 0.3173980869858314\n",
            "Cost after iteration 180: 0.31080964368683595\n",
            "Cost after iteration 190: 0.3047182004620987\n",
            "Cost after iteration 200: 0.2990584998595187\n",
            "Cost after iteration 210: 0.29379449762430593\n",
            "Cost after iteration 220: 0.2888757295897757\n",
            "Cost after iteration 230: 0.28426685475900554\n",
            "Cost after iteration 240: 0.27993162100416413\n",
            "Cost after iteration 250: 0.2758418326812062\n",
            "Cost after iteration 260: 0.2719641875646215\n",
            "Cost after iteration 270: 0.26827423570474473\n",
            "Cost after iteration 280: 0.26475963686620213\n",
            "Cost after iteration 290: 0.26140333252862535\n",
            "Cost after iteration 299: 0.2585105875796635\n"
          ]
        }
      ],
      "source": [
        "parameters, costs_gd =  my_model.train(X_train, y_train, epochs, optimizer='gd')"
      ]
    },
    {
      "cell_type": "code",
      "execution_count": 23,
      "metadata": {
        "colab": {
          "base_uri": "https://localhost:8080/",
          "height": 312
        },
        "id": "fh_MAIFFEOmT",
        "outputId": "7949d06a-f242-4079-f398-0b8465b40714"
      },
      "outputs": [
        {
          "output_type": "execute_result",
          "data": {
            "text/plain": [
              "Text(0, 0.5, 'Cost')"
            ]
          },
          "metadata": {},
          "execution_count": 23
        },
        {
          "output_type": "display_data",
          "data": {
            "text/plain": [
              "<Figure size 432x288 with 1 Axes>"
            ],
            "image/png": "[encoded data removed]"
          },
          "metadata": {
            "needs_background": "light"
          }
        }
      ],
      "source": [
        "plt.plot(range(1,epochs,10),costs)\n",
        "plt.title('Cost vs Iteration - without regularisation (GD)')\n",
        "plt.xlabel('Iterations')\n",
        "plt.ylabel('Cost')"
      ]
    },
    {
      "cell_type": "code",
      "execution_count": 24,
      "metadata": {
        "colab": {
          "base_uri": "https://localhost:8080/"
        },
        "id": "1Ot3tVJLcO1D",
        "outputId": "a67007df-d972-46d2-9a1c-52a5419a2507"
      },
      "outputs": [
        {
          "output_type": "stream",
          "name": "stdout",
          "text": [
            "(10000,) (10000,)\n",
            "Test Accuracy :  0.9262\n",
            "(60000,) (60000,)\n",
            "Train Accuracy :  0.9264333333333333\n"
          ]
        }
      ],
      "source": [
        "y_pred, y_pred_scores = my_model.predict(X_test,parameters)\n",
        "print(y_pred.shape, test_y.shape)\n",
        "print('Test Accuracy : ',my_model.accuracy(y_pred, test_y))\n",
        "\n",
        "y_pred, y_pred_scores = my_model.predict(X_train,parameters)\n",
        "print(y_pred.shape, train_y.shape)\n",
        "print('Train Accuracy : ',my_model.accuracy(y_pred, train_y))"
      ]
    },
    {
      "cell_type": "markdown",
      "metadata": {
        "id": "A56E2TqSFEsZ"
      },
      "source": [
        "### It will go further lower if I increase the number of epochs (iterations)."
      ]
    },
    {
      "cell_type": "code",
      "execution_count": 26,
      "metadata": {
        "id": "Mykz0AWNeFIG"
      },
      "outputs": [],
      "source": [
        "\n",
        "#with SGD\n",
        "\n",
        "X = X_train\n",
        "Y = y_train\n",
        "input_shape = X_train.shape[0]\n",
        "n_classes = len(np.unique(train_y))\n",
        "layers_list = [input_shape, 64,64, n_classes]\n",
        "activation_functions = ['relu','relu','relu','softmax']\n",
        "weight_initializer = 'he'\n",
        "learning_rate = 0.01\n",
        "epochs = 20\n",
        "lambd = 0\n",
        "drop_rate=0\n",
        "sgd = True\n",
        "\n",
        "\n",
        "\n",
        "\n",
        "my_model = My_Neural_Network(layers_list,activation_functions, weight_initializer,learning_rate,lambd,drop_rate, sgd)\n"
      ]
    },
    {
      "cell_type": "code",
      "execution_count": 27,
      "metadata": {
        "colab": {
          "base_uri": "https://localhost:8080/"
        },
        "id": "LbSzIUCoeQdI",
        "outputId": "4a19b192-002d-4443-95ff-82e406b238ac"
      },
      "outputs": [
        {
          "output_type": "stream",
          "name": "stdout",
          "text": [
            "Cost after iteration 1: 0.23009075644607202\n",
            "Cost after iteration 2: 0.11968206896694397\n",
            "Cost after iteration 3: 0.0920752556693331\n",
            "Cost after iteration 4: 0.07481139414707651\n",
            "Cost after iteration 5: 0.06410191844906422\n",
            "Cost after iteration 6: 0.058087347885485384\n",
            "Cost after iteration 7: 0.05598709726811135\n",
            "Cost after iteration 8: 0.052591981563038986\n",
            "Cost after iteration 9: 0.04950549117096619\n",
            "Cost after iteration 10: 0.04886294306950877\n",
            "Cost after iteration 11: 0.04128876981357508\n",
            "Cost after iteration 12: 0.043589312657435236\n",
            "Cost after iteration 13: 0.04712351857046731\n",
            "Cost after iteration 14: 0.04020999024485311\n",
            "Cost after iteration 15: 0.038526313553236255\n",
            "Cost after iteration 16: 0.04403968995937765\n",
            "Cost after iteration 17: 0.03706622589245673\n",
            "Cost after iteration 18: 0.036643077012078175\n",
            "Cost after iteration 19: 0.03515743442479911\n",
            "Cost after iteration 20: 0.036780063887628785\n"
          ]
        }
      ],
      "source": [
        "parameters, costs =  my_model.train(X_train, y_train,epochs,optimizer='gd')"
      ]
    },
    {
      "cell_type": "code",
      "execution_count": 29,
      "metadata": {
        "id": "F5k3KofGgJr_",
        "colab": {
          "base_uri": "https://localhost:8080/",
          "height": 312
        },
        "outputId": "272e0449-7d39-4d57-ca87-f21d79a54e42"
      },
      "outputs": [
        {
          "output_type": "execute_result",
          "data": {
            "text/plain": [
              "Text(0, 0.5, 'Cost')"
            ]
          },
          "metadata": {},
          "execution_count": 29
        },
        {
          "output_type": "display_data",
          "data": {
            "text/plain": [
              "<Figure size 432x288 with 1 Axes>"
            ],
            "image/png": "[encoded data removed]"
          },
          "metadata": {
            "needs_background": "light"
          }
        }
      ],
      "source": [
        "plt.plot(range(1,epochs+1),costs)\n",
        "plt.title('Cost vs Iteration - without regularisation (SGD)')\n",
        "plt.xlabel('Iterations')\n",
        "plt.ylabel('Cost')"
      ]
    },
    {
      "cell_type": "code",
      "source": [
        "y_pred, y_pred_scores = my_model.predict(X_test,parameters)\n",
        "print(y_pred.shape, test_y.shape)\n",
        "print('Test Accuracy : ',my_model.accuracy(y_pred, test_y))\n",
        "\n",
        "y_pred, y_pred_scores = my_model.predict(X_train,parameters)\n",
        "print(y_pred.shape, train_y.shape)\n",
        "print('Train Accuracy : ',my_model.accuracy(y_pred, train_y))"
      ],
      "metadata": {
        "colab": {
          "base_uri": "https://localhost:8080/"
        },
        "id": "rKK1pGqp0A4a",
        "outputId": "6c325f01-6545-4d66-c61f-54427a1ef03d"
      },
      "execution_count": 30,
      "outputs": [
        {
          "output_type": "stream",
          "name": "stdout",
          "text": [
            "(10000,) (10000,)\n",
            "Test Accuracy :  0.9716\n",
            "(60000,) (60000,)\n",
            "Train Accuracy :  0.9889333333333333\n"
          ]
        }
      ]
    },
    {
      "cell_type": "markdown",
      "source": [
        "* SGD takes much more time than Batch gradient descent.\n",
        "* SGD requires much much lesser epochs to achieve good results.\n",
        "* SGD requires lower learning rate to converge."
      ],
      "metadata": {
        "id": "6NMOz79jdZAS"
      }
    },
    {
      "cell_type": "code",
      "source": [
        "\n",
        "#without regularization\n",
        "\n",
        "X = X_train\n",
        "Y = y_train\n",
        "input_shape = X_train.shape[0]\n",
        "n_classes = len(np.unique(train_y))\n",
        "layers_list = [input_shape, 64,64, n_classes]\n",
        "activation_functions = ['relu','relu','relu','softmax']\n",
        "epochs=300\n",
        "weight_initializer = 'he'\n",
        "learning_rate = 0.1\n",
        "lambd = 0\n",
        "drop_rate=0\n",
        "sgd = False\n",
        "\n",
        "\n",
        "\n",
        "\n",
        "my_model = My_Neural_Network(layers_list,activation_functions, weight_initializer,learning_rate,lambd,drop_rate, sgd)\n"
      ],
      "metadata": {
        "id": "V2d_sTwKAr_9"
      },
      "execution_count": 19,
      "outputs": []
    },
    {
      "cell_type": "code",
      "source": [
        "parameters, costs =  my_model.train(X_train, y_train,epochs, optimizer='adam')"
      ],
      "metadata": {
        "colab": {
          "base_uri": "https://localhost:8080/"
        },
        "id": "ZCHDEbtQA8Qc",
        "outputId": "533affd5-4fda-4444-9a32-ac3eec8754c3"
      },
      "execution_count": 20,
      "outputs": [
        {
          "output_type": "stream",
          "name": "stdout",
          "text": [
            "Cost after iteration 0: 2.4659753507045177\n",
            "Cost after iteration 10: 1.6757711029235762\n",
            "Cost after iteration 20: 1.1014606133801772\n",
            "Cost after iteration 30: 0.7875214948869396\n",
            "Cost after iteration 40: 0.6375185734175925\n",
            "Cost after iteration 50: 0.5533101539921559\n",
            "Cost after iteration 60: 0.4989292181898242\n",
            "Cost after iteration 70: 0.4605230007638965\n",
            "Cost after iteration 80: 0.4316528897197195\n",
            "Cost after iteration 90: 0.4090047450781276\n",
            "Cost after iteration 100: 0.39065555640229216\n",
            "Cost after iteration 110: 0.3753984988191435\n",
            "Cost after iteration 120: 0.36240822931005007\n",
            "Cost after iteration 130: 0.3511616801228981\n",
            "Cost after iteration 140: 0.34128458971647174\n",
            "Cost after iteration 150: 0.3324911060727222\n",
            "Cost after iteration 160: 0.3245799333922828\n",
            "Cost after iteration 170: 0.3173980869858314\n",
            "Cost after iteration 180: 0.31080964368683595\n",
            "Cost after iteration 190: 0.3047182004620987\n",
            "Cost after iteration 200: 0.2990584998595187\n",
            "Cost after iteration 210: 0.29379449762430593\n",
            "Cost after iteration 220: 0.2888757295897757\n",
            "Cost after iteration 230: 0.28426685475900554\n",
            "Cost after iteration 240: 0.27993162100416413\n",
            "Cost after iteration 250: 0.2758418326812062\n",
            "Cost after iteration 260: 0.2719641875646215\n",
            "Cost after iteration 270: 0.26827423570474473\n",
            "Cost after iteration 280: 0.26475963686620213\n",
            "Cost after iteration 290: 0.26140333252862535\n",
            "Cost after iteration 299: 0.2585105875796635\n"
          ]
        }
      ]
    },
    {
      "cell_type": "code",
      "source": [
        "plt.plot(range(1,epochs+1,10),costs)\n",
        "plt.title('Cost vs Iteration - without regularisation (adam)')\n",
        "plt.xlabel('Iterations')\n",
        "plt.ylabel('Cost')"
      ],
      "metadata": {
        "colab": {
          "base_uri": "https://localhost:8080/",
          "height": 312
        },
        "id": "MfQFWi3ODKmA",
        "outputId": "f96f0b94-4db0-4206-fe10-5d9757c88fb9"
      },
      "execution_count": 23,
      "outputs": [
        {
          "output_type": "execute_result",
          "data": {
            "text/plain": [
              "Text(0, 0.5, 'Cost')"
            ]
          },
          "metadata": {},
          "execution_count": 23
        },
        {
          "output_type": "display_data",
          "data": {
            "text/plain": [
              "<Figure size 432x288 with 1 Axes>"
            ],
            "image/png": "[encoded data removed]"
          },
          "metadata": {
            "needs_background": "light"
          }
        }
      ]
    },
    {
      "cell_type": "markdown",
      "source": [],
      "metadata": {
        "id": "Yq8F7q0oDep9"
      }
    },
    {
      "cell_type": "code",
      "source": [
        "y_pred, y_pred_scores = my_model.predict(X_test,parameters)\n",
        "print(y_pred.shape, test_y.shape)\n",
        "print('Test Accuracy : ',my_model.accuracy(y_pred, test_y))\n",
        "\n",
        "y_pred, y_pred_scores = my_model.predict(X_train,parameters)\n",
        "print(y_pred.shape, train_y.shape)\n",
        "print('Train Accuracy : ',my_model.accuracy(y_pred, train_y))"
      ],
      "metadata": {
        "colab": {
          "base_uri": "https://localhost:8080/"
        },
        "id": "Z_IyJQbgDe4X",
        "outputId": "f7925434-900a-40e6-9aba-9c35175a3a54"
      },
      "execution_count": 24,
      "outputs": [
        {
          "output_type": "stream",
          "name": "stdout",
          "text": [
            "(10000,) (10000,)\n",
            "Test Accuracy :  0.9262\n",
            "(60000,) (60000,)\n",
            "Train Accuracy :  0.9264333333333333\n"
          ]
        }
      ]
    },
    {
      "cell_type": "code",
      "execution_count": 27,
      "metadata": {
        "id": "HxXDHiYuVu91"
      },
      "outputs": [],
      "source": [
        "\n",
        "#with regularization\n",
        "\n",
        "X = X_train\n",
        "Y = y_train\n",
        "input_shape = X_train.shape[0]\n",
        "n_classes = len(np.unique(train_y))\n",
        "layers_list = [input_shape, 64,64, n_classes]\n",
        "activation_functions = ['relu','relu','relu','softmax']\n",
        "epochs=300\n",
        "weight_initializer = 'he'\n",
        "learning_rate = 0.1\n",
        "lambd = 0.4\n",
        "drop_rate=0\n",
        "sgd = False\n",
        "\n",
        "\n",
        "\n",
        "\n",
        "my_model = My_Neural_Network(layers_list,activation_functions, weight_initializer,learning_rate,lambd,drop_rate, sgd)\n"
      ]
    },
    {
      "cell_type": "code",
      "execution_count": 28,
      "metadata": {
        "colab": {
          "base_uri": "https://localhost:8080/"
        },
        "id": "RPwNSrpXWAcf",
        "outputId": "67661962-325a-4be5-96e9-78fcad095ac8"
      },
      "outputs": [
        {
          "output_type": "stream",
          "name": "stdout",
          "text": [
            "Cost after iteration 0: 2.466897302723364\n",
            "Cost after iteration 10: 1.676705941260727\n",
            "Cost after iteration 20: 1.102418627617385\n",
            "Cost after iteration 30: 0.7884901291005143\n",
            "Cost after iteration 40: 0.6384951349520369\n",
            "Cost after iteration 50: 0.5542932402126539\n",
            "Cost after iteration 60: 0.49991805549503365\n",
            "Cost after iteration 70: 0.4615166047179147\n",
            "Cost after iteration 80: 0.43265122710408344\n",
            "Cost after iteration 90: 0.41000699594403744\n",
            "Cost after iteration 100: 0.3916611903438567\n",
            "Cost after iteration 110: 0.37640786674711296\n",
            "Cost after iteration 120: 0.36342113996192416\n",
            "Cost after iteration 130: 0.3521777395988085\n",
            "Cost after iteration 140: 0.34230373163677336\n",
            "Cost after iteration 150: 0.33351319552771186\n",
            "Cost after iteration 160: 0.3256046597228051\n",
            "Cost after iteration 170: 0.31842543875057033\n",
            "Cost after iteration 180: 0.3118394954622695\n",
            "Cost after iteration 190: 0.3057506403274842\n",
            "Cost after iteration 200: 0.3000934307820505\n",
            "Cost after iteration 210: 0.29483211025844713\n",
            "Cost after iteration 220: 0.2899156493261284\n",
            "Cost after iteration 230: 0.2853092464769932\n",
            "Cost after iteration 240: 0.2809764200671527\n",
            "Cost after iteration 250: 0.2768888120339432\n",
            "Cost after iteration 260: 0.27301359656474444\n",
            "Cost after iteration 270: 0.26932585144130167\n",
            "Cost after iteration 280: 0.2658133014043287\n",
            "Cost after iteration 290: 0.26245883933999203\n",
            "Cost after iteration 299: 0.2595678246198512\n"
          ]
        }
      ],
      "source": [
        "parameters, costs =  my_model.train(X_train, y_train,epochs, optimizer='adam')"
      ]
    },
    {
      "cell_type": "code",
      "source": [
        "plt.plot(range(1,epochs+1,10),costs)\n",
        "plt.title('Cost vs Iteration - with regularisation (adam)')\n",
        "plt.xlabel('Iterations')\n",
        "plt.ylabel('Cost')"
      ],
      "metadata": {
        "colab": {
          "base_uri": "https://localhost:8080/",
          "height": 312
        },
        "id": "eHJ_naBCHCnT",
        "outputId": "31e9b363-5c6e-4f24-c622-4fb86857068d"
      },
      "execution_count": 29,
      "outputs": [
        {
          "output_type": "execute_result",
          "data": {
            "text/plain": [
              "Text(0, 0.5, 'Cost')"
            ]
          },
          "metadata": {},
          "execution_count": 29
        },
        {
          "output_type": "display_data",
          "data": {
            "text/plain": [
              "<Figure size 432x288 with 1 Axes>"
            ],
            "image/png": "[encoded data removed]"
          },
          "metadata": {
            "needs_background": "light"
          }
        }
      ]
    },
    {
      "cell_type": "code",
      "source": [
        "y_pred, y_pred_scores = my_model.predict(X_test,parameters)\n",
        "print(y_pred.shape, test_y.shape)\n",
        "print('Test Accuracy : ',my_model.accuracy(y_pred, test_y))\n",
        "\n",
        "y_pred, y_pred_scores = my_model.predict(X_train,parameters)\n",
        "print(y_pred.shape, train_y.shape)\n",
        "print('Train Accuracy : ',my_model.accuracy(y_pred, train_y))"
      ],
      "metadata": {
        "colab": {
          "base_uri": "https://localhost:8080/"
        },
        "id": "2qs3H_MrHGjR",
        "outputId": "e22c2ec6-08fd-433c-8f4f-eaade891a64f"
      },
      "execution_count": 30,
      "outputs": [
        {
          "output_type": "stream",
          "name": "stdout",
          "text": [
            "(10000,) (10000,)\n",
            "Test Accuracy :  0.9262\n",
            "(60000,) (60000,)\n",
            "Train Accuracy :  0.9264166666666667\n"
          ]
        }
      ]
    },
    {
      "cell_type": "markdown",
      "metadata": {
        "id": "lcLGpdQxN_lb"
      },
      "source": [
        "### Since the model was already generalizing pretty well, regularization didnt change much. "
      ]
    },
    {
      "cell_type": "code",
      "execution_count": 55,
      "metadata": {
        "id": "YVCx1kwZra6O"
      },
      "outputs": [],
      "source": [
        "\n",
        "#with Dropout\n",
        "\n",
        "\n",
        "X = X_train\n",
        "Y = y_train\n",
        "input_shape = X_train.shape[0]\n",
        "n_classes = len(np.unique(train_y))\n",
        "layers_list = [input_shape, 64,64, n_classes]\n",
        "activation_functions = ['relu','relu+dropout','relu+dropout','softmax']\n",
        "epochs=300\n",
        "weight_initializer = 'he'\n",
        "learning_rate = 0.1\n",
        "lambd = 0\n",
        "drop_rate=0.3\n",
        "sgd = False\n",
        "\n",
        "\n",
        "\n",
        "\n",
        "my_model = My_Neural_Network(layers_list,activation_functions, weight_initializer,learning_rate,lambd,drop_rate, sgd)\n",
        "\n",
        "\n"
      ]
    },
    {
      "cell_type": "code",
      "execution_count": 56,
      "metadata": {
        "colab": {
          "base_uri": "https://localhost:8080/"
        },
        "id": "Xdjwjo22W8bQ",
        "outputId": "75d45822-f64c-4698-d75a-386609162e86"
      },
      "outputs": [
        {
          "output_type": "stream",
          "name": "stdout",
          "text": [
            "Cost after iteration 0: 2.5812865148380033\n",
            "Cost after iteration 10: 1.954430078005659\n",
            "Cost after iteration 20: 1.610894193390232\n",
            "Cost after iteration 30: 1.3859258408700734\n",
            "Cost after iteration 40: 1.2422077966031388\n",
            "Cost after iteration 50: 1.1471933270782586\n",
            "Cost after iteration 60: 1.075788082370786\n",
            "Cost after iteration 70: 1.0234125631044733\n",
            "Cost after iteration 80: 0.9791476257325005\n",
            "Cost after iteration 90: 0.9391051638340204\n",
            "Cost after iteration 100: 0.9180720430845603\n",
            "Cost after iteration 110: 0.8941641779663678\n",
            "Cost after iteration 120: 0.875372698912925\n",
            "Cost after iteration 130: 0.8480126600747135\n",
            "Cost after iteration 140: 0.8378565764294215\n",
            "Cost after iteration 150: 0.8278572136686452\n",
            "Cost after iteration 160: 0.8143303082747355\n",
            "Cost after iteration 170: 0.8081164921283264\n",
            "Cost after iteration 180: 0.7894716814058638\n",
            "Cost after iteration 190: 0.7831855959665319\n",
            "Cost after iteration 200: 0.7735169873966278\n",
            "Cost after iteration 210: 0.7704405688919898\n",
            "Cost after iteration 220: 0.7616735217694293\n",
            "Cost after iteration 230: 0.7543573049540033\n",
            "Cost after iteration 240: 0.7407691197922435\n",
            "Cost after iteration 250: 0.7342957438714045\n",
            "Cost after iteration 260: 0.7299738490975298\n",
            "Cost after iteration 270: 0.724481831111594\n",
            "Cost after iteration 280: 0.7236635746129335\n",
            "Cost after iteration 290: 0.7172270747462921\n",
            "Cost after iteration 299: 0.7108452836526166\n"
          ]
        }
      ],
      "source": [
        "\n",
        "parameters, costs =  my_model.train(X_train, y_train,epochs, optimizer='adam')"
      ]
    },
    {
      "cell_type": "code",
      "execution_count": 57,
      "metadata": {
        "colab": {
          "base_uri": "https://localhost:8080/",
          "height": 312
        },
        "id": "v1li5nSJWF0c",
        "outputId": "87342f28-2a09-4230-a28a-d12c56fee56b"
      },
      "outputs": [
        {
          "output_type": "execute_result",
          "data": {
            "text/plain": [
              "Text(0, 0.5, 'Cost')"
            ]
          },
          "metadata": {},
          "execution_count": 57
        },
        {
          "output_type": "display_data",
          "data": {
            "text/plain": [
              "<Figure size 432x288 with 1 Axes>"
            ],
            "image/png": "[encoded data removed]"
          },
          "metadata": {
            "needs_background": "light"
          }
        }
      ],
      "source": [
        "plt.plot(range(1,epochs+1,10),costs)\n",
        "plt.title('Cost vs Iteration - with Dropout (adam)')\n",
        "plt.xlabel('Iterations')\n",
        "plt.ylabel('Cost')"
      ]
    },
    {
      "cell_type": "code",
      "execution_count": 58,
      "metadata": {
        "colab": {
          "base_uri": "https://localhost:8080/"
        },
        "id": "ki6_oaf5dNEV",
        "outputId": "0b2980b9-af47-4d5a-ec01-20d09ae0c35b"
      },
      "outputs": [
        {
          "output_type": "stream",
          "name": "stdout",
          "text": [
            "(10000,) (10000,)\n",
            "Test Accuracy :  0.7688\n",
            "(60000,) (60000,)\n",
            "Train Accuracy :  0.7681166666666667\n"
          ]
        }
      ],
      "source": [
        "y_pred, y_pred_scores = my_model.predict(X_test,parameters)\n",
        "print(y_pred.shape, test_y.shape)\n",
        "print('Test Accuracy : ',my_model.accuracy(y_pred, test_y))\n",
        "\n",
        "y_pred, y_pred_scores = my_model.predict(X_train,parameters)\n",
        "print(y_pred.shape, train_y.shape)\n",
        "print('Train Accuracy : ',my_model.accuracy(y_pred, train_y))"
      ]
    },
    {
      "cell_type": "code",
      "execution_count": null,
      "metadata": {
        "id": "ckxQLKyoPJH8"
      },
      "outputs": [],
      "source": []
    }
  ],
  "metadata": {
    "colab": {
      "provenance": []
    },
    "gpuClass": "standard",
    "kernelspec": {
      "display_name": "Python 3",
      "name": "python3"
    },
    "language_info": {
      "name": "python"
    }
  },
  "nbformat": 4,
  "nbformat_minor": 0
}